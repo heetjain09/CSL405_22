{
 "cells": [
  {
   "cell_type": "markdown",
   "id": "2114d248-b5bf-47ea-a64b-73f4c61c8c55",
   "metadata": {},
   "source": [
    "### HEET JAIN - 22"
   ]
  },
  {
   "cell_type": "code",
   "execution_count": 1,
   "id": "1382e11f-e14e-43b7-b1f9-34e4eb80ad2d",
   "metadata": {},
   "outputs": [
    {
     "name": "stdout",
     "output_type": "stream",
     "text": [
      "1. Array Creation Techniques\n"
     ]
    },
    {
     "data": {
      "text/plain": [
       "array([1, 2, 3, 4, 5])"
      ]
     },
     "execution_count": 1,
     "metadata": {},
     "output_type": "execute_result"
    }
   ],
   "source": [
    "import numpy as np\n",
    "\n",
    "# 1. Array Creation Techniques\n",
    "print(\"1. Array Creation Techniques\")\n",
    "\n",
    "# a. Creating an array from a list\n",
    "array_from_list = np.array([1, 2, 3, 4, 5])\n",
    "array_from_list"
   ]
  },
  {
   "cell_type": "code",
   "execution_count": 2,
   "id": "6d616094-7542-453d-83e6-380f164b171d",
   "metadata": {},
   "outputs": [
    {
     "data": {
      "text/plain": [
       "array([0, 2, 4, 6, 8])"
      ]
     },
     "execution_count": 2,
     "metadata": {},
     "output_type": "execute_result"
    }
   ],
   "source": [
    "# b. Using arange()\n",
    "array_arange = np.arange(0, 10, 2)\n",
    "array_arange"
   ]
  },
  {
   "cell_type": "code",
   "execution_count": 3,
   "id": "c5b77d9d-0ad1-4c1b-8568-3134f1d49caa",
   "metadata": {},
   "outputs": [
    {
     "data": {
      "text/plain": [
       "array([ 0. ,  2.5,  5. ,  7.5, 10. ])"
      ]
     },
     "execution_count": 3,
     "metadata": {},
     "output_type": "execute_result"
    }
   ],
   "source": [
    "# c. Using linspace()\n",
    "array_linspace = np.linspace(0, 10, 5)  # Divides 0 to 10 into 5 points\n",
    "array_linspace"
   ]
  },
  {
   "cell_type": "code",
   "execution_count": 4,
   "id": "4350e4f1-50d4-4cee-a449-cf29c16bd51d",
   "metadata": {},
   "outputs": [
    {
     "data": {
      "text/plain": [
       "array([[0., 0., 0.],\n",
       "       [0., 0., 0.],\n",
       "       [0., 0., 0.]])"
      ]
     },
     "execution_count": 4,
     "metadata": {},
     "output_type": "execute_result"
    }
   ],
   "source": [
    "# d. Using zeros()\n",
    "array_zeros = np.zeros((3, 3))\n",
    "array_zeros"
   ]
  },
  {
   "cell_type": "code",
   "execution_count": 5,
   "id": "b37d0eaf-fedd-43db-a6ba-b932b0301d8f",
   "metadata": {},
   "outputs": [
    {
     "data": {
      "text/plain": [
       "array([[1., 1.],\n",
       "       [1., 1.]])"
      ]
     },
     "execution_count": 5,
     "metadata": {},
     "output_type": "execute_result"
    }
   ],
   "source": [
    "# e. Using ones()\n",
    "array_ones = np.ones((2, 2))\n",
    "array_ones"
   ]
  },
  {
   "cell_type": "code",
   "execution_count": 6,
   "id": "baf6922a-717c-412b-bb63-4335c44a0161",
   "metadata": {},
   "outputs": [
    {
     "data": {
      "text/plain": [
       "array([[1., 0., 0.],\n",
       "       [0., 1., 0.],\n",
       "       [0., 0., 1.]])"
      ]
     },
     "execution_count": 6,
     "metadata": {},
     "output_type": "execute_result"
    }
   ],
   "source": [
    "# f. Using eye() for identity matrix\n",
    "array_eye = np.eye(3)\n",
    "array_eye"
   ]
  },
  {
   "cell_type": "code",
   "execution_count": 7,
   "id": "e8db983b-e364-4ad2-aff7-8efb9bd35b1c",
   "metadata": {},
   "outputs": [
    {
     "data": {
      "text/plain": [
       "array([[0.48299761, 0.36967255, 0.26156074],\n",
       "       [0.47749152, 0.46073466, 0.26129388],\n",
       "       [0.77208389, 0.77165768, 0.33331465]])"
      ]
     },
     "execution_count": 7,
     "metadata": {},
     "output_type": "execute_result"
    }
   ],
   "source": [
    "# g. Using random() for random values\n",
    "array_random = np.random.random((3, 3))\n",
    "array_random"
   ]
  },
  {
   "cell_type": "code",
   "execution_count": 9,
   "id": "ca5b1165-7a9a-4b9c-902f-2aaf2454bbfd",
   "metadata": {},
   "outputs": [
    {
     "name": "stdout",
     "output_type": "stream",
     "text": [
      "\n",
      "2. NumPy Methods\n"
     ]
    },
    {
     "data": {
      "text/plain": [
       "array([[1, 2, 3],\n",
       "       [4, 5, 6],\n",
       "       [7, 8, 9]])"
      ]
     },
     "execution_count": 9,
     "metadata": {},
     "output_type": "execute_result"
    }
   ],
   "source": [
    "# 2. Different NumPy Methods\n",
    "print(\"\\n2. NumPy Methods\")\n",
    "\n",
    "# a. Reshaping an array\n",
    "reshaped_array = np.arange(1, 10).reshape(3, 3)\n",
    "reshaped_array"
   ]
  },
  {
   "cell_type": "code",
   "execution_count": 10,
   "id": "951e3123-b3e8-4f12-9a3e-91a1b9e7a99d",
   "metadata": {},
   "outputs": [
    {
     "data": {
      "text/plain": [
       "array([[1, 4, 7],\n",
       "       [2, 5, 8],\n",
       "       [3, 6, 9]])"
      ]
     },
     "execution_count": 10,
     "metadata": {},
     "output_type": "execute_result"
    }
   ],
   "source": [
    "# b. Transposing an array\n",
    "transposed_array = reshaped_array.T\n",
    "transposed_array"
   ]
  },
  {
   "cell_type": "code",
   "execution_count": 11,
   "id": "2e098005-1082-464c-9fec-5fec6c7d890f",
   "metadata": {},
   "outputs": [
    {
     "data": {
      "text/plain": [
       "array([1.        , 1.41421356, 1.73205081])"
      ]
     },
     "execution_count": 11,
     "metadata": {},
     "output_type": "execute_result"
    }
   ],
   "source": [
    "# c. Mathematical operations\n",
    "array_math = np.array([1, 2, 3])\n",
    "array_math + 2\n",
    "array_math * 3\n",
    "np.sqrt(array_math)"
   ]
  },
  {
   "cell_type": "code",
   "execution_count": 14,
   "id": "44cfc26a-8ed0-451c-84b0-eecb7fbb7510",
   "metadata": {},
   "outputs": [
    {
     "data": {
      "text/plain": [
       "1"
      ]
     },
     "execution_count": 14,
     "metadata": {},
     "output_type": "execute_result"
    }
   ],
   "source": [
    "# d. Aggregation methods\n",
    "np.sum(array_math)\n",
    "np.mean(array_math)\n",
    "np.max(array_math)\n",
    "np.min(array_math)"
   ]
  },
  {
   "cell_type": "code",
   "execution_count": 15,
   "id": "cc93ec5b-0c3d-47b0-a221-987c328fbadc",
   "metadata": {},
   "outputs": [
    {
     "data": {
      "text/plain": [
       "array([1, 2, 3, 4, 5, 6])"
      ]
     },
     "execution_count": 15,
     "metadata": {},
     "output_type": "execute_result"
    }
   ],
   "source": [
    "# e. Concatenation of arrays\n",
    "array_a = np.array([1, 2, 3])\n",
    "array_b = np.array([4, 5, 6])\n",
    "concat_array = np.concatenate((array_a, array_b))\n",
    "concat_array"
   ]
  },
  {
   "cell_type": "code",
   "execution_count": 16,
   "id": "51c2d383-eb66-4e1e-9008-088fa72e4868",
   "metadata": {},
   "outputs": [
    {
     "data": {
      "text/plain": [
       "array([1, 2, 3, 4])"
      ]
     },
     "execution_count": 16,
     "metadata": {},
     "output_type": "execute_result"
    }
   ],
   "source": [
    "# f. Sorting an array\n",
    "unsorted_array = np.array([3, 1, 4, 2])\n",
    "sorted_array = np.sort(unsorted_array)\n",
    "sorted_array"
   ]
  },
  {
   "cell_type": "code",
   "execution_count": 17,
   "id": "50a794c1-1d6d-476f-b8c9-3708fac0015f",
   "metadata": {},
   "outputs": [
    {
     "data": {
      "text/plain": [
       "array([2, 3])"
      ]
     },
     "execution_count": 17,
     "metadata": {},
     "output_type": "execute_result"
    }
   ],
   "source": [
    "# g. Indexing and Slicing\n",
    "indexed_value = array_math[1]  # Indexing\n",
    "indexed_value\n",
    "sliced_array = array_math[1:3]  # Slicing\n",
    "sliced_array"
   ]
  },
  {
   "cell_type": "code",
   "execution_count": 18,
   "id": "10242065-39c4-4120-8541-44f98f68bb68",
   "metadata": {},
   "outputs": [
    {
     "data": {
      "text/plain": [
       "array([3])"
      ]
     },
     "execution_count": 18,
     "metadata": {},
     "output_type": "execute_result"
    }
   ],
   "source": [
    "# h. Boolean Masking\n",
    "boolean_mask = array_math > 2\n",
    "boolean_mask\n",
    "array_math[boolean_mask]"
   ]
  },
  {
   "cell_type": "code",
   "execution_count": null,
   "id": "0b66a717-657d-4175-91bd-4c2021ee3b3c",
   "metadata": {},
   "outputs": [],
   "source": []
  }
 ],
 "metadata": {
  "kernelspec": {
   "display_name": "Python 3 (ipykernel)",
   "language": "python",
   "name": "python3"
  },
  "language_info": {
   "codemirror_mode": {
    "name": "ipython",
    "version": 3
   },
   "file_extension": ".py",
   "mimetype": "text/x-python",
   "name": "python",
   "nbconvert_exporter": "python",
   "pygments_lexer": "ipython3",
   "version": "3.12.3"
  }
 },
 "nbformat": 4,
 "nbformat_minor": 5
}
