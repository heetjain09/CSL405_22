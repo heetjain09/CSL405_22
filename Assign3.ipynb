{
 "cells": [
  {
   "cell_type": "markdown",
   "id": "1d0c392e-ac95-40f0-a9ec-f9f74855bc30",
   "metadata": {},
   "source": [
    "### Heet jain"
   ]
  },
  {
   "cell_type": "markdown",
   "id": "bf21f25c-2c13-423b-9c04-f8fbb52b576b",
   "metadata": {},
   "source": [
    "### Assignment -03"
   ]
  },
  {
   "cell_type": "code",
   "execution_count": 1,
   "id": "395e8132-3582-4336-b640-909a776e41fb",
   "metadata": {},
   "outputs": [
    {
     "name": "stdout",
     "output_type": "stream",
     "text": [
      "Input List: [1, 2, 3, 4, 5]\n",
      "K: 2\n",
      "Output List: [4, 5, 1, 2, 3]\n"
     ]
    }
   ],
   "source": [
    "class ListNode:\n",
    "    def __init__(self, val=0, next=None):\n",
    "        self.val = val\n",
    "        self.next = next\n",
    "\n",
    "def rotateRight(head, k):\n",
    "    if not head or not head.next or k == 0:\n",
    "        return head\n",
    "\n",
    "    # Step 1: Find the length of the linked list\n",
    "    length = 1\n",
    "    tail = head\n",
    "    while tail.next:\n",
    "        tail = tail.next\n",
    "        length += 1\n",
    "\n",
    "    # Step 2: Adjust k if it's greater than length\n",
    "    k = k % length\n",
    "    if k == 0:\n",
    "        return head\n",
    "\n",
    "    # Step 3: Find the new tail (length - k - 1) and new head\n",
    "    new_tail = head\n",
    "    for _ in range(length - k - 1):\n",
    "        new_tail = new_tail.next\n",
    "\n",
    "    new_head = new_tail.next\n",
    "    new_tail.next = None  # Break the link\n",
    "    tail.next = head  # Connect tail to head\n",
    "\n",
    "    return new_head\n",
    "\n",
    "# Helper function to convert linked list to list\n",
    "def linkedListToList(head):\n",
    "    values = []\n",
    "    while head:\n",
    "        values.append(head.val)\n",
    "        head = head.next\n",
    "    return values\n",
    "\n",
    "# Function to create linked list from list\n",
    "def createLinkedList(arr):\n",
    "    if not arr:\n",
    "        return None\n",
    "    head = ListNode(arr[0])\n",
    "    current = head\n",
    "    for val in arr[1:]:\n",
    "        current.next = ListNode(val)\n",
    "        current = current.next\n",
    "    return head\n",
    "\n",
    "# Example Usage:\n",
    "input_list = [1, 2, 3, 4, 5]\n",
    "k = 2\n",
    "head = createLinkedList(input_list)\n",
    "\n",
    "print(\"Input List:\", linkedListToList(head))\n",
    "print(\"K:\", k)\n",
    "\n",
    "new_head = rotateRight(head, k)\n",
    "\n",
    "print(\"Output List:\", linkedListToList(new_head))\n"
   ]
  },
  {
   "cell_type": "code",
   "execution_count": null,
   "id": "373c1ffb-1577-4c91-8d9f-66a36af9719f",
   "metadata": {},
   "outputs": [],
   "source": []
  }
 ],
 "metadata": {
  "kernelspec": {
   "display_name": "Python 3 (ipykernel)",
   "language": "python",
   "name": "python3"
  },
  "language_info": {
   "codemirror_mode": {
    "name": "ipython",
    "version": 3
   },
   "file_extension": ".py",
   "mimetype": "text/x-python",
   "name": "python",
   "nbconvert_exporter": "python",
   "pygments_lexer": "ipython3",
   "version": "3.12.3"
  }
 },
 "nbformat": 4,
 "nbformat_minor": 5
}
