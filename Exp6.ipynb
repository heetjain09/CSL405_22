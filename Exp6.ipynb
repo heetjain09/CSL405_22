{
 "cells": [
  {
   "cell_type": "markdown",
   "id": "531d0bdd-803b-4a5d-9f0a-289691373617",
   "metadata": {},
   "source": [
    "### Heet jain -22"
   ]
  },
  {
   "cell_type": "markdown",
   "id": "42ffbd93-6aff-411f-b131-474a3f47432b",
   "metadata": {},
   "source": [
    "#### Importing"
   ]
  },
  {
   "cell_type": "code",
   "execution_count": 23,
   "id": "badb1a76-9dd9-4d91-8508-86e8fddfc42c",
   "metadata": {},
   "outputs": [],
   "source": [
    "import sqlite3"
   ]
  },
  {
   "cell_type": "markdown",
   "id": "fd6498a8-4d81-4cba-a83b-e81257025f3e",
   "metadata": {},
   "source": [
    "#### Connecting to Database"
   ]
  },
  {
   "cell_type": "code",
   "execution_count": 24,
   "id": "0b06f3f4-f936-4f78-b4ee-0478022d7cb9",
   "metadata": {},
   "outputs": [],
   "source": [
    "connection = sqlite3.connect ('./genericDatabase.db')\n",
    "cursor = connection.cursor ()"
   ]
  },
  {
   "cell_type": "markdown",
   "id": "4096092a-9bd9-4e86-a697-dfb24c8472ae",
   "metadata": {},
   "source": [
    "#### Create Table"
   ]
  },
  {
   "cell_type": "code",
   "execution_count": 25,
   "id": "8b55828d-bec4-4287-a06a-f48d42ed2249",
   "metadata": {},
   "outputs": [],
   "source": [
    "cursor.execute('''\n",
    "    CREATE TABLE IF NOT EXISTS students (\n",
    "        id INTEGER PRIMARY KEY AUTOINCREMENT,\n",
    "        name TEXT NOT NULL,\n",
    "        age INTEGER NOT NULL\n",
    "    )\n",
    "''')\n",
    "\n",
    "connection.commit()"
   ]
  },
  {
   "cell_type": "markdown",
   "id": "1e98fdb9-7411-4121-bf81-bad483e4f22b",
   "metadata": {},
   "source": [
    "#### CRUD Operations"
   ]
  },
  {
   "cell_type": "markdown",
   "id": "2b3b47d5-1825-4138-ad0b-439af551afa9",
   "metadata": {},
   "source": [
    "#### Create (Insertion)"
   ]
  },
  {
   "cell_type": "code",
   "execution_count": 26,
   "id": "48b82a7a-916f-4592-9762-608c03ad6291",
   "metadata": {},
   "outputs": [
    {
     "name": "stdout",
     "output_type": "stream",
     "text": [
      "Record added successfully!\n",
      "Record added successfully!\n"
     ]
    }
   ],
   "source": [
    "def create_student(name, age):\n",
    "    cursor.execute('''\n",
    "        INSERT INTO students (name, age) \n",
    "        VALUES (?, ?)\n",
    "    ''', (name, age))\n",
    "    connection.commit()\n",
    "    print(\"Record added successfully!\")\n",
    "\n",
    "create_student(\"Griffith\", 20)\n",
    "create_student(\"Guts\", 22)"
   ]
  },
  {
   "cell_type": "markdown",
   "id": "8af5638b-eb93-4e4b-bf8f-0ade7d20b70a",
   "metadata": {},
   "source": [
    "#### Read (Retrieve)"
   ]
  },
  {
   "cell_type": "code",
   "execution_count": 27,
   "id": "efb645dd-0594-48c2-8ab0-9a46ec6cd742",
   "metadata": {},
   "outputs": [
    {
     "name": "stdout",
     "output_type": "stream",
     "text": [
      "Student Records:\n",
      "(1, 'Griffith', 21)\n",
      "(3, 'Griffith', 20)\n",
      "(4, 'Guts', 22)\n",
      "(5, 'Griffith', 20)\n",
      "(6, 'Guts', 22)\n"
     ]
    }
   ],
   "source": [
    "def read_students():\n",
    "    cursor.execute('SELECT * FROM students')\n",
    "    rows = cursor.fetchall()\n",
    "    print(\"Student Records:\")\n",
    "    for row in rows:\n",
    "        print(row)\n",
    "\n",
    "read_students()"
   ]
  },
  {
   "cell_type": "markdown",
   "id": "022b16a8-b92c-47b4-99fe-beaf681d92f0",
   "metadata": {},
   "source": [
    "#### Update"
   ]
  },
  {
   "cell_type": "code",
   "execution_count": 28,
   "id": "d1df1aa3-d426-4ed4-bcfc-09667498eda8",
   "metadata": {},
   "outputs": [
    {
     "name": "stdout",
     "output_type": "stream",
     "text": [
      "Student age updated successfully!\n",
      "Student Records:\n",
      "(1, 'Griffith', 21)\n",
      "(3, 'Griffith', 20)\n",
      "(4, 'Guts', 22)\n",
      "(5, 'Griffith', 20)\n",
      "(6, 'Guts', 22)\n"
     ]
    }
   ],
   "source": [
    "def update_student_age(student_id, new_age):\n",
    "    cursor.execute('''\n",
    "        UPDATE students\n",
    "        SET age = ?\n",
    "        WHERE id = ?\n",
    "    ''', (new_age, student_id))\n",
    "    connection.commit()\n",
    "    print(\"Student age updated successfully!\")\n",
    "\n",
    "update_student_age(1, 21)  # Updating Alice's age to 21\n",
    "read_students() "
   ]
  },
  {
   "cell_type": "markdown",
   "id": "82df95f6-9180-42ac-b641-b885a2240471",
   "metadata": {},
   "source": [
    "#### Delete "
   ]
  },
  {
   "cell_type": "code",
   "execution_count": 29,
   "id": "ed296879-9755-44ad-ad44-3f3ca4b37b8b",
   "metadata": {},
   "outputs": [
    {
     "name": "stdout",
     "output_type": "stream",
     "text": [
      "Student deleted successfully!\n",
      "Student Records:\n",
      "(1, 'Griffith', 21)\n",
      "(3, 'Griffith', 20)\n",
      "(4, 'Guts', 22)\n",
      "(5, 'Griffith', 20)\n",
      "(6, 'Guts', 22)\n"
     ]
    }
   ],
   "source": [
    "def delete_student(student_id):\n",
    "    cursor.execute('''\n",
    "        DELETE FROM students\n",
    "        WHERE id = ?\n",
    "    ''', (student_id,))\n",
    "    connection.commit()\n",
    "    print(\"Student deleted successfully!\")\n",
    "\n",
    "delete_student(2)  # Deleting Bob's record\n",
    "read_students() "
   ]
  },
  {
   "cell_type": "markdown",
   "id": "0aa7e133-977d-4076-b424-029450c4912b",
   "metadata": {},
   "source": [
    "#### Closing the database connection"
   ]
  },
  {
   "cell_type": "code",
   "execution_count": 30,
   "id": "e1728869-36e7-48cb-9159-dadd20bb0222",
   "metadata": {},
   "outputs": [],
   "source": [
    "connection.close ()"
   ]
  },
  {
   "cell_type": "code",
   "execution_count": null,
   "id": "df891f96-dbd9-43e1-b187-72afdaf4e9d4",
   "metadata": {},
   "outputs": [],
   "source": []
  }
 ],
 "metadata": {
  "kernelspec": {
   "display_name": "Python 3 (ipykernel)",
   "language": "python",
   "name": "python3"
  },
  "language_info": {
   "codemirror_mode": {
    "name": "ipython",
    "version": 3
   },
   "file_extension": ".py",
   "mimetype": "text/x-python",
   "name": "python",
   "nbconvert_exporter": "python",
   "pygments_lexer": "ipython3",
   "version": "3.12.3"
  }
 },
 "nbformat": 4,
 "nbformat_minor": 5
}
