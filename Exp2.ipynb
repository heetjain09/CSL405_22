{
 "cells": [
  {
   "cell_type": "markdown",
   "id": "84c70c93-1ef7-48ee-bf40-cac09dcd5bf5",
   "metadata": {},
   "source": [
    "#### Heet Jain-22"
   ]
  },
  {
   "cell_type": "code",
   "execution_count": 1,
   "id": "a74398c3-180a-4775-bc42-d85a13e04093",
   "metadata": {},
   "outputs": [
    {
     "name": "stdout",
     "output_type": "stream",
     "text": [
      "Employee 1: Frontend Developer\n",
      "Employee 2: Fullstack\n",
      "Employee 3: Backend Developer\n",
      "Employee 4: Not a Developer\n"
     ]
    }
   ],
   "source": [
    "class Employee:\n",
    "    def __init__ (\n",
    "            self,\n",
    "            designation : str = 'Developer',\n",
    "            frontend : bool = False,\n",
    "            backend : bool = False\n",
    "    ):\n",
    "        self.designation = designation\n",
    "        self.frontend = frontend\n",
    "        self.backend = backend\n",
    "\n",
    "    def __repr__ (self):\n",
    "        return '{} - Frontend: {}, Backend: {}'.format(self.designation, self.frontend, self.backend)\n",
    "\n",
    "    ### Write your method over here.\n",
    "    def verifier(self):\n",
    "        if self.frontend and self.backend:\n",
    "            return \"Fullstack\"\n",
    "        elif self.frontend:\n",
    "            return \"Frontend Developer\"\n",
    "        elif self.backend:\n",
    "            return \"Backend Developer\"\n",
    "        else:\n",
    "            return \"Not a Developer\"\n",
    "\n",
    "if __name__ == '__main__':\n",
    "    firstEmployee = Employee(frontend=True)\n",
    "    secondEmployee = Employee(frontend=True, backend=True)\n",
    "    thirdEmployee = Employee(backend=True)\n",
    "    fourthEmployee = Employee()\n",
    "\n",
    "print(f'Employee 1: {firstEmployee.verifier()}')\n",
    "print(f'Employee 2: {secondEmployee.verifier()}')  \n",
    "print(f'Employee 3: {thirdEmployee.verifier()}')  \n",
    "print(f'Employee 4: {fourthEmployee.verifier()}') \n",
    "   "
   ]
  },
  {
   "cell_type": "code",
   "execution_count": null,
   "id": "05ac018a-6e9e-4a0d-bee4-c48ce3a49d5d",
   "metadata": {},
   "outputs": [],
   "source": []
  }
 ],
 "metadata": {
  "kernelspec": {
   "display_name": "Python 3 (ipykernel)",
   "language": "python",
   "name": "python3"
  },
  "language_info": {
   "codemirror_mode": {
    "name": "ipython",
    "version": 3
   },
   "file_extension": ".py",
   "mimetype": "text/x-python",
   "name": "python",
   "nbconvert_exporter": "python",
   "pygments_lexer": "ipython3",
   "version": "3.12.7"
  }
 },
 "nbformat": 4,
 "nbformat_minor": 5
}
