{
 "cells": [
  {
   "cell_type": "markdown",
   "id": "6381ea45-70e7-47a9-9c2c-e5e512bda7c7",
   "metadata": {},
   "source": [
    "### Heet Jain-22"
   ]
  },
  {
   "cell_type": "code",
   "execution_count": 1,
   "id": "50053ea3-20c6-4b54-b830-5398201d1696",
   "metadata": {},
   "outputs": [
    {
     "name": "stdout",
     "output_type": "stream",
     "text": [
      "Files in the current directory:\n",
      ".condarc\n",
      "Assign1.ipynb\n",
      "Exp1.ipynb\n",
      "Exp2.ipynb\n",
      "NTUSER.DAT\n",
      "ntuser.dat.LOG1\n",
      "ntuser.dat.LOG2\n",
      "NTUSER.DAT{b5fec83e-8dbc-11ed-97a0-89862a3c16e8}.TM.blf\n",
      "NTUSER.DAT{b5fec83e-8dbc-11ed-97a0-89862a3c16e8}.TMContainer00000000000000000001.regtrans-ms\n",
      "NTUSER.DAT{b5fec83e-8dbc-11ed-97a0-89862a3c16e8}.TMContainer00000000000000000002.regtrans-ms\n",
      "ntuser.ini\n",
      "Operators, Conditionals and Mutability (2).ipynb\n",
      "package-lock.json\n",
      "package.json\n",
      "Untitled.ipynb\n",
      "Untitled1.ipynb\n",
      "{\n"
     ]
    },
    {
     "data": {
      "text/plain": [
       "'\\nThe above scipt uses os module to perform the required function.\\nUtilize the pathlib module to perform the same functionality.\\n'"
      ]
     },
     "execution_count": 1,
     "metadata": {},
     "output_type": "execute_result"
    }
   ],
   "source": [
    "import os\n",
    "\n",
    "files = [f for f in os.listdir('.') if os.path.isfile(f)]\n",
    "\n",
    "print(\"Files in the current directory:\")\n",
    "for file in files:\n",
    "    print(file)\n",
    "\n",
    "'''\n",
    "The above scipt uses os module to perform the required function.\n",
    "Utilize the pathlib module to perform the same functionality.\n",
    "'''"
   ]
  },
  {
   "cell_type": "code",
   "execution_count": 2,
   "id": "aca3d951-e1f4-4e41-88c1-d524ec95956d",
   "metadata": {},
   "outputs": [
    {
     "name": "stdout",
     "output_type": "stream",
     "text": [
      "Files in the current directory:\n",
      ".condarc\n",
      "Assign1.ipynb\n",
      "Exp1.ipynb\n",
      "Exp2.ipynb\n",
      "NTUSER.DAT\n",
      "ntuser.dat.LOG1\n",
      "ntuser.dat.LOG2\n",
      "NTUSER.DAT{b5fec83e-8dbc-11ed-97a0-89862a3c16e8}.TM.blf\n",
      "NTUSER.DAT{b5fec83e-8dbc-11ed-97a0-89862a3c16e8}.TMContainer00000000000000000001.regtrans-ms\n",
      "NTUSER.DAT{b5fec83e-8dbc-11ed-97a0-89862a3c16e8}.TMContainer00000000000000000002.regtrans-ms\n",
      "ntuser.ini\n",
      "Operators, Conditionals and Mutability (2).ipynb\n",
      "package-lock.json\n",
      "package.json\n",
      "Untitled.ipynb\n",
      "Untitled1.ipynb\n",
      "Untitled18.ipynb\n",
      "{\n"
     ]
    }
   ],
   "source": [
    "from pathlib import Path\n",
    "\n",
    "# Create a Path object for the current directory\n",
    "current_directory = Path('.')\n",
    "\n",
    "# Get a list of all files in the current directory\n",
    "files = [f for f in current_directory.iterdir() if f.is_file()]\n",
    "\n",
    "# Print the files\n",
    "print(\"Files in the current directory:\")\n",
    "for file in files:\n",
    "    print(file.name)"
   ]
  },
  {
   "cell_type": "code",
   "execution_count": null,
   "id": "d68bfed1-7312-4590-b745-f7d5a6725135",
   "metadata": {},
   "outputs": [],
   "source": []
  }
 ],
 "metadata": {
  "kernelspec": {
   "display_name": "Python 3 (ipykernel)",
   "language": "python",
   "name": "python3"
  },
  "language_info": {
   "codemirror_mode": {
    "name": "ipython",
    "version": 3
   },
   "file_extension": ".py",
   "mimetype": "text/x-python",
   "name": "python",
   "nbconvert_exporter": "python",
   "pygments_lexer": "ipython3",
   "version": "3.12.3"
  }
 },
 "nbformat": 4,
 "nbformat_minor": 5
}
