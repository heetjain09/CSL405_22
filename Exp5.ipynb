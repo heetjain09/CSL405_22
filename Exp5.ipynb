{
 "cells": [
  {
   "cell_type": "markdown",
   "id": "6b7f4e8a-3ee5-418a-8e93-5263349545d8",
   "metadata": {},
   "source": [
    "### Heet Jain - 22"
   ]
  },
  {
   "cell_type": "code",
   "execution_count": 5,
   "id": "f34f3ad3-879c-4753-ab03-d878a3c3c5ec",
   "metadata": {},
   "outputs": [
    {
     "name": "stdout",
     "output_type": "stream",
     "text": [
      "Initial Stack\n",
      "['a', 'b', 'c']\n"
     ]
    }
   ],
   "source": [
    "\n",
    "stack = list ()\n",
    "\n",
    "# Append Operation\n",
    "stack.append ('a')\n",
    "stack.append ('b')\n",
    "stack.append ('c')\n",
    "print ('Initial Stack')\n",
    "print (stack)"
   ]
  },
  {
   "cell_type": "code",
   "execution_count": 6,
   "id": "2e0d657c-4e62-4ba3-96e8-89456d224c25",
   "metadata": {},
   "outputs": [
    {
     "name": "stdout",
     "output_type": "stream",
     "text": [
      "c\n",
      "b\n",
      "a\n",
      "[]\n"
     ]
    }
   ],
   "source": [
    "# Pop Operation\n",
    "print (stack.pop ())\n",
    "print (stack.pop ())\n",
    "print (stack.pop ())\n",
    "print (stack)"
   ]
  },
  {
   "cell_type": "code",
   "execution_count": null,
   "id": "b56c8375-3cb5-4f4d-96b7-dd4f0049f5b6",
   "metadata": {},
   "outputs": [],
   "source": [
    "'''\n",
    "Given a valid parentheses string stringInput, return the nesting depth of stringInput.\n",
    "The nesting depth is the maximum number of nested parentheses.\n",
    "\n",
    "Example 1:\n",
    "Input: s = \"(1+(2*3)+((8)/4))+1\"\n",
    "Output: 3\n",
    "Explanation:\n",
    "Digit 8 is inside of 3 nested parentheses in the string.\n",
    "\n",
    "Example 2:\n",
    "Input: s = \"(1)+((2))+(((3)))\"\n",
    "Output: 3\n",
    "Explanation:\n",
    "Digit 3 is inside of 3 nested parentheses in the string.\n",
    "\n",
    "Example 3:\n",
    "Input: s = \"()(())((()()))\"\n",
    "Output: 3\n",
    "'''"
   ]
  },
  {
   "cell_type": "code",
   "execution_count": 13,
   "id": "27b9e076-13d2-4918-9da5-754fc3238253",
   "metadata": {},
   "outputs": [
    {
     "name": "stdin",
     "output_type": "stream",
     "text": [
      "Enter a string containing parentheses (INPUT) :  ((1+(2*3))+((8/4)+(7-5)))\n"
     ]
    },
    {
     "name": "stdout",
     "output_type": "stream",
     "text": [
      "Maximum depth of nested parentheses (OUTPUT) : 3\n"
     ]
    }
   ],
   "source": [
    "class StackDepth:\n",
    "    def maximumDepth(self, stringInput: str) -> int:\n",
    "        max_depth = 0\n",
    "        current_depth = 0\n",
    "\n",
    "        for char in stringInput:\n",
    "            if char == '(':\n",
    "                current_depth += 1\n",
    "                max_depth = max(max_depth, current_depth)\n",
    "            elif char == ')':\n",
    "                if current_depth > 0:\n",
    "                    current_depth -= 1\n",
    "                else:\n",
    "                    return -1 \n",
    "\n",
    "        return max_depth if current_depth == 0 else -1  \n",
    "        \n",
    "user_input = input(\"Enter a string containing parentheses (INPUT) : \")\n",
    "\n",
    "stack_obj = StackDepth()\n",
    "\n",
    "result = stack_obj.maximumDepth(user_input)\n",
    "if result == -1:\n",
    "    print(\"Invalid input: Unbalanced parentheses\")\n",
    "else:\n",
    "    print(\"Maximum depth of nested parentheses (OUTPUT) :\", result)\n",
    "\n",
    "     "
   ]
  },
  {
   "cell_type": "code",
   "execution_count": null,
   "id": "0a3a9c5b-a075-49d6-a231-67acbbae92e4",
   "metadata": {},
   "outputs": [],
   "source": []
  }
 ],
 "metadata": {
  "kernelspec": {
   "display_name": "Python 3 (ipykernel)",
   "language": "python",
   "name": "python3"
  },
  "language_info": {
   "codemirror_mode": {
    "name": "ipython",
    "version": 3
   },
   "file_extension": ".py",
   "mimetype": "text/x-python",
   "name": "python",
   "nbconvert_exporter": "python",
   "pygments_lexer": "ipython3",
   "version": "3.12.3"
  }
 },
 "nbformat": 4,
 "nbformat_minor": 5
}
