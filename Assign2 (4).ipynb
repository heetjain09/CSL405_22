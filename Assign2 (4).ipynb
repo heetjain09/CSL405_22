{
 "cells": [
  {
   "cell_type": "markdown",
   "id": "0e21793a-2c79-4a53-a4b4-7b30e68ca62b",
   "metadata": {},
   "source": [
    "### Heet jain"
   ]
  },
  {
   "cell_type": "markdown",
   "id": "de58e0e8-e670-41c3-be3b-0db861618615",
   "metadata": {},
   "source": [
    "### Assignment - 02"
   ]
  },
  {
   "cell_type": "code",
   "execution_count": 3,
   "id": "3d049846-b688-48e8-9c13-bb80f3d85057",
   "metadata": {},
   "outputs": [
    {
     "name": "stdout",
     "output_type": "stream",
     "text": [
      "[('2025-02-10 15:45:32', 'Net_Module', 'Connection timeout from 192.168.1.10. Error Code: 0xAB12CD34'), ('2025-02-10 17:12:05', 'Security_Module', 'Unauthorized access detected from 10.0.0.5. Error Code: 0xDEADBEEF')]\n"
     ]
    }
   ],
   "source": [
    "import re\n",
    "\n",
    "def extract_critical_errors(log_data: str) -> list[tuple]:\n",
    "    # Define the regex pattern\n",
    "    pattern = re.compile(\n",
    "        r'\\[(?P<timestamp>\\d{4}-\\d{2}-\\d{2} \\d{2}:\\d{2}:\\d{2})\\] \\[ERROR\\] \\[(?P<module>\\w+)\\] '\n",
    "        r'(?P<message>.*?\\b(?P<ip>(25[0-5]|2[0-4][0-9]|1[0-9]{2}|[1-9]?[0-9])\\.'\n",
    "        r'(25[0-5]|2[0-4][0-9]|1[0-9]{2}|[1-9]?[0-9])\\.'\n",
    "        r'(25[0-5]|2[0-4][0-9]|1[0-9]{2}|[1-9]?[0-9])\\.'\n",
    "        r'(25[0-5]|2[0-4][0-9]|1[0-9]{2}|[1-9]?[0-9]))\\b.*?0x[A-Fa-f0-9]{8})'\n",
    "    )\n",
    "    \n",
    "    # Find all matches in the log data\n",
    "    matches = pattern.finditer(log_data)\n",
    "    \n",
    "    # Extract the required information from the matches\n",
    "    result = [(match.group('timestamp'), match.group('module'), match.group('message')) for match in matches]\n",
    "    \n",
    "    return result\n",
    "\n",
    "# Example usage\n",
    "log_data = \"\"\"\n",
    "[2025-02-10 14:23:01] [INFO] [Auth_Module] User login successful.\n",
    "[2025-02-10 15:45:32] [ERROR] [Net_Module] Connection timeout from 192.168.1.10. Error Code: 0xAB12CD34\n",
    "[2025-02-10 16:01:10] [WARN] [Disk_Module] Low disk space warning.\n",
    "[2025-02-10 17:12:05] [ERROR] [Security_Module] Unauthorized access detected from 10.0.0.5. Error Code: 0xDEADBEEF\n",
    "\"\"\"\n",
    "\n",
    "# Print the result\n",
    "print(extract_critical_errors(log_data))"
   ]
  },
  {
   "cell_type": "code",
   "execution_count": null,
   "id": "8e114866-5b28-4e57-92f2-e7a4117e8515",
   "metadata": {},
   "outputs": [],
   "source": []
  }
 ],
 "metadata": {
  "kernelspec": {
   "display_name": "Python 3 (ipykernel)",
   "language": "python",
   "name": "python3"
  },
  "language_info": {
   "codemirror_mode": {
    "name": "ipython",
    "version": 3
   },
   "file_extension": ".py",
   "mimetype": "text/x-python",
   "name": "python",
   "nbconvert_exporter": "python",
   "pygments_lexer": "ipython3",
   "version": "3.12.3"
  }
 },
 "nbformat": 4,
 "nbformat_minor": 5
}
