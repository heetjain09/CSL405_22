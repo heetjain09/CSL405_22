{
 "cells": [
  {
   "cell_type": "markdown",
   "id": "b6cbfeb2-d056-41ce-bbf5-04ce1af1e0f5",
   "metadata": {},
   "source": [
    "### HEET JAIN - 22 "
   ]
  },
  {
   "cell_type": "code",
   "execution_count": 3,
   "id": "cd533454-fbed-4244-801d-f50d2a44c2cf",
   "metadata": {},
   "outputs": [
    {
     "name": "stdout",
     "output_type": "stream",
     "text": [
      "Thread 1 - Number: 1\n",
      "Thread 2 - Letter: A\n",
      "Thread 3 - Square of 1: 1\n",
      "Thread 1 - Number: 2\n",
      "Thread 2 - Letter: B\n",
      "Thread 3 - Square of 2: 4\n",
      "Thread 1 - Number: 3\n",
      "Thread 2 - Letter: C\n",
      "Thread 3 - Square of 3: 9\n",
      "Thread 1 - Number: 4\n",
      "Thread 3 - Square of 4: 16\n",
      "Thread 2 - Letter: D\n",
      "Thread 1 - Number: 5\n",
      "Thread 3 - Square of 5: 25\n",
      "Thread 2 - Letter: E\n",
      "All threads have finished executing.\n"
     ]
    }
   ],
   "source": [
    "import threading\n",
    "import time\n",
    "\n",
    "def print_numbers():\n",
    "    for i in range(1, 6):\n",
    "        print(f\"Thread 1 - Number: {i}\")\n",
    "        time.sleep(1)\n",
    "\n",
    "def print_letters():\n",
    "    for letter in 'ABCDE':\n",
    "        print(f\"Thread 2 - Letter: {letter}\")\n",
    "        time.sleep(1)\n",
    "\n",
    "def print_squares():\n",
    "    for i in range(1, 6):\n",
    "        print(f\"Thread 3 - Square of {i}: {i ** 2}\")\n",
    "        time.sleep(1)\n",
    "\n",
    "# Creating threads\n",
    "thread1 = threading.Thread(target=print_numbers)\n",
    "thread2 = threading.Thread(target=print_letters)\n",
    "thread3 = threading.Thread(target=print_squares)\n",
    "\n",
    "# Starting threads\n",
    "thread1.start()\n",
    "thread2.start()\n",
    "thread3.start()\n",
    "\n",
    "# Ensuring all threads complete\n",
    "thread1.join()\n",
    "thread2.join()\n",
    "thread3.join()\n",
    "\n",
    "print(\"All threads have finished executing.\")\n"
   ]
  },
  {
   "cell_type": "code",
   "execution_count": null,
   "id": "aabd3208-e5ca-46d2-816f-c71575ec8d22",
   "metadata": {},
   "outputs": [],
   "source": []
  }
 ],
 "metadata": {
  "kernelspec": {
   "display_name": "Python 3 (ipykernel)",
   "language": "python",
   "name": "python3"
  },
  "language_info": {
   "codemirror_mode": {
    "name": "ipython",
    "version": 3
   },
   "file_extension": ".py",
   "mimetype": "text/x-python",
   "name": "python",
   "nbconvert_exporter": "python",
   "pygments_lexer": "ipython3",
   "version": "3.12.3"
  }
 },
 "nbformat": 4,
 "nbformat_minor": 5
}
